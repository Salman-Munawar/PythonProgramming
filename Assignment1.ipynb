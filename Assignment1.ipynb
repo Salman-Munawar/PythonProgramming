{
 "cells": [
  {
   "cell_type": "code",
   "execution_count": 1,
   "metadata": {},
   "outputs": [
    {
     "name": "stdout",
     "output_type": "stream",
     "text": [
      "Twinkle, twinkle,little star,\n",
      "      How I wonder what you are!\n",
      "                Up above the world so high,\n",
      "                Like a diamond in the sky.\n",
      "Twinkle, twinkle, little star,\n",
      "How I wonder what you are\n"
     ]
    }
   ],
   "source": [
    "#Task 1: Write a Python program to print the following string in a specific format (see the output).\n",
    " # Twinkle, twinkle, little star, How I wonder what you are! Up above the world so high, Like a diamond in the sky. Twinkle, twinkle, little star, How I wonder what you are\n",
    "\n",
    "print ('Twinkle, twinkle,little star,')\n",
    "print('      How I wonder what you are!')\n",
    "print('                Up above the world so high,')\n",
    "print('                Like a diamond in the sky.')\n",
    "print('Twinkle, twinkle, little star,')\n",
    "print('How I wonder what you are')\n",
    "    \n"
   ]
  },
  {
   "cell_type": "code",
   "execution_count": 3,
   "metadata": {},
   "outputs": [
    {
     "name": "stdout",
     "output_type": "stream",
     "text": [
      "python version\n",
      "3.7.4 (default, Aug  9 2019, 18:34:13) [MSC v.1915 64 bit (AMD64)]\n",
      "version info.\n",
      "sys.version_info(major=3, minor=7, micro=4, releaselevel='final', serial=0)\n"
     ]
    }
   ],
   "source": [
    "#Task 2: Write a Python program to get the Python version you are using\n",
    "\n",
    "import sys\n",
    "print (\"python version\")\n",
    "print(sys.version)\n",
    "print(\"version info.\")\n",
    "print(sys.version_info)"
   ]
  },
  {
   "cell_type": "code",
   "execution_count": 1,
   "metadata": {},
   "outputs": [
    {
     "name": "stdout",
     "output_type": "stream",
     "text": [
      "today's date: 2019-11-15\n"
     ]
    }
   ],
   "source": [
    "#Task 3: Write a Python program to display the current date and time.\n",
    "\n",
    "from datetime import date\n",
    "today=date.today()\n",
    "print(\"today's date:\",today)"
   ]
  },
  {
   "cell_type": "code",
   "execution_count": 17,
   "metadata": {},
   "outputs": [
    {
     "name": "stdin",
     "output_type": "stream",
     "text": [
      "input the radius of the circle 3\n"
     ]
    },
    {
     "name": "stdout",
     "output_type": "stream",
     "text": [
      "the area of circle with radius 3.0 is 28.274333882308138\n"
     ]
    }
   ],
   "source": [
    "#Task 4: Write a Python program which accepts the radius of a circle from the user and compute the area.\n",
    "\n",
    "from math import pi\n",
    "r= float (input(\"input the radius of the circle\"))\n",
    "print(\"the area of circle with radius\",r,\"is\", pi*r**2)"
   ]
  },
  {
   "cell_type": "code",
   "execution_count": 2,
   "metadata": {},
   "outputs": [
    {
     "name": "stdout",
     "output_type": "stream",
     "text": [
      "enter your first name:Salman\n",
      "enter your last name:Munawar\n",
      "Munawar Salman\n"
     ]
    }
   ],
   "source": [
    "#Task 5: Write a Python program which accepts the user's first and last name and print them in reverse order with a space between them.\n",
    "\n",
    "a=input(\"enter your first name:\")\n",
    "b=input(\"enter your last name:\")\n",
    "print(b,a)"
   ]
  },
  {
   "cell_type": "code",
   "execution_count": 5,
   "metadata": {},
   "outputs": [
    {
     "name": "stdout",
     "output_type": "stream",
     "text": [
      "enter first input:1\n",
      "enter second input:2\n",
      "3\n"
     ]
    }
   ],
   "source": [
    "#Task 6: Write a python program which takes two inputs from user and print them addition\n",
    "\n",
    "a=int(input(\"enter first input:\"))\n",
    "b=int(input(\"enter second input:\"))\n",
    "print(a+b)"
   ]
  },
  {
   "cell_type": "code",
   "execution_count": null,
   "metadata": {},
   "outputs": [],
   "source": []
  }
 ],
 "metadata": {
  "kernelspec": {
   "display_name": "Python 3",
   "language": "python",
   "name": "python3"
  },
  "language_info": {
   "codemirror_mode": {
    "name": "ipython",
    "version": 3
   },
   "file_extension": ".py",
   "mimetype": "text/x-python",
   "name": "python",
   "nbconvert_exporter": "python",
   "pygments_lexer": "ipython3",
   "version": "3.7.4"
  }
 },
 "nbformat": 4,
 "nbformat_minor": 4
}
