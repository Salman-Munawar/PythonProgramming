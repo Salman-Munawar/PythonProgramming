{
 "cells": [
  {
   "cell_type": "code",
   "execution_count": null,
   "metadata": {},
   "outputs": [],
   "source": [
    "# Question 1: Define Object Oriented Programming Language?\n",
    "\n",
    "  An object-oriented programming language (OOP) is a high-level programming language based on the object-oriented model. \n",
    "  To perform object-oriented programming, one needs an object-oriented programming language.  \n",
    "  Many modern programming languages are object-oriented, \n",
    "  however some older programming languages, such as Pascal.\n",
    "  Examples of object-oriented programming languages include Java, C## , C++ and Python. "
   ]
  },
  {
   "cell_type": "code",
   "execution_count": null,
   "metadata": {},
   "outputs": [],
   "source": [
    "# Question 2: List down the Benefits of OOP?\n",
    "\n",
    "1. Re-usability.\n",
    "2. Data Redundancy.\n",
    "3. Code Maintenance.\n",
    "4. Data encapsulation\n",
    "5. Very good for GUI applications\n",
    "6. Easy to build real-world applications\n"
   ]
  },
  {
   "cell_type": "code",
   "execution_count": null,
   "metadata": {},
   "outputs": [],
   "source": [
    "# Question 3: Differentiate between function and method?\n",
    "\n",
    "# Functions :\n",
    "Python function is a sequence of statements that execute in a certain order, given a name. \n",
    "They let us implement code reusability. \n",
    "When we talked about Python Functions, we talked about built-in and user-defined functions.\n",
    "\n",
    "# Methods :\n",
    "Python method is like a function, except it is attached to an object. \n",
    "We call a method on an object, and it possibly makes changes to that object. \n",
    "A method, then, belongs to a class."
   ]
  },
  {
   "cell_type": "code",
   "execution_count": null,
   "metadata": {},
   "outputs": [],
   "source": [
    "# Question 4:\n",
    "\n",
    "# Class\n",
    "Class means a blueprint for the object. Class contains all the properties that object will have. syntax\n",
    "class Classname():\n",
    "    #Attributes inside init method\n",
    "    def init(self, parameters):\n",
    "        self.parameters = parameters \n",
    "        \n",
    "#Methods / Behavior\n",
    "    def method1(self):\n",
    "        print(\"Salman\")\n",
    "        \n",
    "  Now Class have two main things the \"attributes\" and Methods. \n",
    "  Variables that are defined inside class are called \"attributes\" \n",
    "  and the functions that are defined inside class are called \"methods' or \"behaviours\".      \n",
    "\n",
    "# Object\n",
    "Object is the instance of a class. Object is the real world model of the class. \n",
    "Object contains all the properties attributes and behaviours that are defined inside a class.\n",
    " Syntax\n",
    "Objectname = Classname(args)\n",
    "\n",
    "Class is the general properties and Objects have the properties with their values.\n",
    "\n",
    "For example.\n",
    "class Car():\n",
    "    def init(self,name):\n",
    "        self.name = name\n",
    "\n",
    "    def showname(self):\n",
    "        print(name)\n",
    "\n",
    "now we have created a class car, that contains the attribute \"name\" and a method or behaviour \"showname()\".\n",
    "self is the prefix that is used to give reference of the class. \n",
    "It is a reference variable, wherever you write self it means you are accessing that class's attributes or methods.Now we create two objects of the same class.\n",
    "car1 = Car(\"Corolla\")\n",
    "car2 = Car(\"Civic\")\n",
    "\n",
    "now you see these objects have values corolla and civic and assigned to the property name.\n",
    "car1.name    it will return Corolla\n",
    "car2.name    it will return Civic  \n",
    "car1.showname()     it will print corolla\n",
    "car2.showname()     it will print civic"
   ]
  },
  {
   "cell_type": "code",
   "execution_count": 29,
   "metadata": {},
   "outputs": [
    {
     "name": "stdout",
     "output_type": "stream",
     "text": [
      "2019 Audi Black 1800Cc\n",
      "This car has 23 miles on it.\n",
      "2013 Subaru White 1500Cc\n",
      "This car has 23500 miles on it.\n",
      "2015 Civic Red 1500Cc\n",
      "This car has 33500 miles on it.\n",
      "2018 Corolla Grey 2000Cc\n",
      "This car has 55000 miles on it.\n",
      "2005 Mehran Blue 1000Cc\n",
      "This car has 80000 miles on it.\n"
     ]
    }
   ],
   "source": [
    "# Question 5:\n",
    "\n",
    "class Car():\n",
    "    def __init__(self, name, model, color, engine):\n",
    "        self.name = name\n",
    "        self.model = model\n",
    "        self.color = color\n",
    "        self.engine = engine         \n",
    "        self.odometer_reading = 0\n",
    "    \n",
    "            \n",
    "    def get_descriptive_name(self): \n",
    "            long_name = str(self.model) + ' ' + self.name + ' ' + self.color + ' ' + self.engine\n",
    "            return long_name.title()   \n",
    "        \n",
    "    def read_odometer(self): \n",
    "          print(\"This car has \" + str(self.odometer_reading) + \" miles on it.\")  \n",
    "            \n",
    "    def update_odometer(self, mileage): \n",
    "        self.odometer_reading = mileage\n",
    "        \n",
    "     \n",
    "        \n",
    "my_new_car = Car('audi', 2019, 'Black', '1800cc')\n",
    "print(my_new_car.get_descriptive_name())\n",
    "\n",
    "my_new_car.update_odometer(23)\n",
    "my_new_car.read_odometer()\n",
    " \n",
    "my_used_car = Car('subaru', 2013, 'White', '1500cc')\n",
    "print(my_used_car.get_descriptive_name())\n",
    "\n",
    "my_used_car.update_odometer(23500)\n",
    "my_used_car.read_odometer() \n",
    "\n",
    "car1 = Car('Civic', 2015, 'Red', '1500cc')\n",
    "print(car1.get_descriptive_name())\n",
    "\n",
    "car1.update_odometer(33500)\n",
    "car1.read_odometer() \n",
    "\n",
    "car2 = Car('Corolla', 2018, 'Grey', '2000cc')\n",
    "print(car2.get_descriptive_name())\n",
    "\n",
    "car2.update_odometer(55000)\n",
    "car2.read_odometer() \n",
    "\n",
    "car3 = Car('Mehran', 2005, 'Blue', '1000cc')\n",
    "print(car3.get_descriptive_name())\n",
    "\n",
    "car3.update_odometer(80000)\n",
    "car3.read_odometer()  \n",
    "\n",
    "        "
   ]
  },
  {
   "cell_type": "code",
   "execution_count": null,
   "metadata": {},
   "outputs": [],
   "source": [
    " "
   ]
  },
  {
   "cell_type": "code",
   "execution_count": null,
   "metadata": {},
   "outputs": [],
   "source": []
  }
 ],
 "metadata": {
  "kernelspec": {
   "display_name": "Python 3",
   "language": "python",
   "name": "python3"
  },
  "language_info": {
   "codemirror_mode": {
    "name": "ipython",
    "version": 3
   },
   "file_extension": ".py",
   "mimetype": "text/x-python",
   "name": "python",
   "nbconvert_exporter": "python",
   "pygments_lexer": "ipython3",
   "version": "3.7.4"
  }
 },
 "nbformat": 4,
 "nbformat_minor": 2
}
