{
 "cells": [
  {
   "cell_type": "code",
   "execution_count": 23,
   "metadata": {
    "scrolled": false
   },
   "outputs": [
    {
     "name": "stdout",
     "output_type": "stream",
     "text": [
      "***Your Marksheet***\n",
      "Enter your marks of English out of 100 = 100\n",
      "Enter your marks of Urdu out of 100 = 80\n",
      "Enter your marks of Chemistry out of 100 = 99\n",
      "Enter your marks of Physics out of 100 = 99\n",
      "Enter your marks of Maths out of 100 = 99\n",
      "Enter your marks of Pakistan Studies out of 100 = 99\n",
      "Enter your marks of Islamiat out of 100 = 99\n",
      "Your Total Marks are 675\n",
      "Your Percentage is 96.42857142857143\n",
      "Congratulations! You have secured Grade A\n"
     ]
    }
   ],
   "source": [
    "# Question 1: Write a program which takes 5 inputs from user for different subject’s marks, total it and generate mark sheet using grades ?\n",
    "\n",
    "print(\"***Your Marksheet***\")\n",
    "English= int(input(\"Enter your marks of English out of 100 = \"))\n",
    "Urdu= int(input(\"Enter your marks of Urdu out of 100 = \"))\n",
    "Chemistry= int(input(\"Enter your marks of Chemistry out of 100 = \"))\n",
    "Physics= int(input(\"Enter your marks of Physics out of 100 = \"))\n",
    "Maths= int(input(\"Enter your marks of Maths out of 100 = \"))\n",
    "Pakistan_Studies= int(input(\"Enter your marks of Pakistan Studies out of 100 = \"))\n",
    "Islamiat= int(input(\"Enter your marks of Islamiat out of 100 = \"))\n",
    "Total_marks= English+Urdu+Chemistry+Physics+Maths+Pakistan_Studies+Islamiat\n",
    "Percentage= (Total_marks/700)*100\n",
    "print(\"Your Total Marks are \" + str(Total_marks))\n",
    "print(\"Your Percentage is\" + \" \" + str(Percentage))\n",
    "if Percentage >= 90 and Percentage <=100:    \n",
    " print(\"Congratulations! You have secured Grade A\")\n",
    "elif Percentage <90 and Percentage >=80:   \n",
    "  print(\"Congratulations! You have secured Grade B\")\n",
    "elif Percentage <80 and Percentage >=70:   \n",
    "   print(\"Congratulations You have secured Grade C\")\n",
    "elif Percentage <70 and Percentage >=60:   \n",
    "   print(\"Congratulations You have secured Grade D\")\n",
    "else:\n",
    "  print(\"You have failed in examinations\")"
   ]
  },
  {
   "cell_type": "code",
   "execution_count": 5,
   "metadata": {},
   "outputs": [
    {
     "name": "stdout",
     "output_type": "stream",
     "text": [
      "Enter a number: 4\n",
      "4 is Even\n"
     ]
    }
   ],
   "source": [
    "# Question 2: Write a program which take input from user and identify that the given number is even or odd?\n",
    "\n",
    "num = int(input(\"Enter a number: \"))\n",
    "if (num % 2) == 0:\n",
    "   print(\"{0} is Even\".format(num))\n",
    "else:\n",
    "   print(\"{0} is Odd\".format(num))"
   ]
  },
  {
   "cell_type": "code",
   "execution_count": 26,
   "metadata": {},
   "outputs": [
    {
     "name": "stdout",
     "output_type": "stream",
     "text": [
      "The length of list is:  4\n"
     ]
    }
   ],
   "source": [
    "# Question 3: Write a program which print the length of the list?\n",
    "\n",
    "n = len([10, 20, 30,\"salman\"]) \n",
    "print(\"The length of list is: \", n) "
   ]
  },
  {
   "cell_type": "code",
   "execution_count": 2,
   "metadata": {},
   "outputs": [
    {
     "name": "stdout",
     "output_type": "stream",
     "text": [
      "How many numbers: 3\n",
      "Enter number 4\n",
      "Enter number 5\n",
      "Enter number 6\n",
      "Sum of elements in given list is : 15\n"
     ]
    }
   ],
   "source": [
    "# Question 4: Write a Python program to sum all the numeric items in a list?\n",
    "\n",
    "lst = []\n",
    "num = int(input('How many numbers: '))\n",
    "for n in range(num):\n",
    "    numbers = int(input('Enter number '))\n",
    "    lst.append(numbers)\n",
    "print(\"Sum of elements in given list is :\", sum(lst))"
   ]
  },
  {
   "cell_type": "code",
   "execution_count": 3,
   "metadata": {
    "scrolled": true
   },
   "outputs": [
    {
     "name": "stdout",
     "output_type": "stream",
     "text": [
      "How many numbers: 5\n",
      "Enter number 7\n",
      "Enter number 8\n",
      "Enter number 9\n",
      "Enter number 11\n",
      "Enter number 50\n",
      "Maximum element in the list is : 50\n"
     ]
    }
   ],
   "source": [
    "# Question 5: Write a Python program to get the largest number from a numeric list.\n",
    "\n",
    "lst = [];\n",
    "num = int(input('How many numbers: '));\n",
    "\n",
    "for n in range(num):\n",
    " numbers = int(input('Enter number '));    \n",
    " lst.append(numbers);\n",
    "print(\"Maximum element in the list is :\", max(lst))"
   ]
  },
  {
   "cell_type": "code",
   "execution_count": 4,
   "metadata": {},
   "outputs": [
    {
     "name": "stdout",
     "output_type": "stream",
     "text": [
      "1\n",
      "1\n",
      "2\n",
      "3\n"
     ]
    }
   ],
   "source": [
    "# Question 6: Take a list, say for example this one:\n",
    "# a = [1, 1, 2, 3, 5, 8, 13, 21, 34, 55, 89]\n",
    "# and write a program that prints out all the elements of the list that are less than 5.\n",
    "\n",
    "a = [1, 1, 2, 3, 5, 8, 13, 21, 34, 55, 89]\n",
    "\n",
    "for i in a:\n",
    "\n",
    "    if i < 5:\n",
    "\n",
    "        print(i)"
   ]
  },
  {
   "cell_type": "code",
   "execution_count": null,
   "metadata": {},
   "outputs": [],
   "source": []
  }
 ],
 "metadata": {
  "kernelspec": {
   "display_name": "Python 3",
   "language": "python",
   "name": "python3"
  },
  "language_info": {
   "codemirror_mode": {
    "name": "ipython",
    "version": 3
   },
   "file_extension": ".py",
   "mimetype": "text/x-python",
   "name": "python",
   "nbconvert_exporter": "python",
   "pygments_lexer": "ipython3",
   "version": "3.7.4"
  }
 },
 "nbformat": 4,
 "nbformat_minor": 2
}
