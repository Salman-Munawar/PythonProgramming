{
 "cells": [
  {
   "cell_type": "code",
   "execution_count": 10,
   "metadata": {},
   "outputs": [
    {
     "name": "stdout",
     "output_type": "stream",
     "text": [
      "enter 1st no: 5\n",
      "enter 2nd no: 55\n",
      "enter operator: *\n",
      "answer:  275\n"
     ]
    }
   ],
   "source": [
    "#question1: Make a calculator using Python with addition , subtraction , multiplication , division and power.\n",
    "\n",
    "x=int(input(\"enter 1st no: \"))\n",
    "y=int(input(\"enter 2nd no: \"))\n",
    "z=input(\"enter operator: \")\n",
    "\n",
    "if z==\"+\":\n",
    "    print(\"answer: \",x+y)\n",
    "if z==\"-\":\n",
    "    print(\"answer: \",x-y)\n",
    "if z==\"*\":\n",
    "    print(\"answer: \",x*y)\n",
    "if z==\"/\":\n",
    "    print(\"answer: \",x/y)\n",
    "if z==\"**\":\n",
    "    print(\"answer: \",x**y)"
   ]
  },
  {
   "cell_type": "code",
   "execution_count": 9,
   "metadata": {},
   "outputs": [
    {
     "name": "stdout",
     "output_type": "stream",
     "text": [
      "11 0 45 50 66 100 "
     ]
    }
   ],
   "source": [
    "#question2: Write a program to check if there is any numeric value in list using for loop. \n",
    "# list of numbers \n",
    "list1 = [11, -21, 0, 45, 50, 66, -93, 100] \n",
    "  \n",
    "# iterating each number in list \n",
    "for num in list1: \n",
    "      \n",
    "    # checking condition \n",
    "    if num >= 0: \n",
    "       print(num, end = \" \") "
   ]
  },
  {
   "cell_type": "code",
   "execution_count": 11,
   "metadata": {},
   "outputs": [
    {
     "name": "stdout",
     "output_type": "stream",
     "text": [
      "{'eng': 8, 'math': 10, 'sci': 9, 'comp': 10, 'urdu': 7}\n"
     ]
    }
   ],
   "source": [
    "#question3: Write a Python script to add a key to a dictionary.\n",
    "\n",
    "marks={\"eng\":8, \"math\":10, \"sci\":9,\"comp\":10}\n",
    "marks.update({\"urdu\":7})\n",
    "print(marks)\n"
   ]
  },
  {
   "cell_type": "code",
   "execution_count": 14,
   "metadata": {},
   "outputs": [
    {
     "name": "stdout",
     "output_type": "stream",
     "text": [
      "200\n"
     ]
    }
   ],
   "source": [
    "#question4: Write a Python program to sum all the numeric items in a dictionary.\n",
    "\n",
    "marks={\"eng\":80, \"math\":100, \"sci\":10,\"comp\":10}\n",
    "print(sum(marks.values()))"
   ]
  },
  {
   "cell_type": "code",
   "execution_count": 15,
   "metadata": {},
   "outputs": [
    {
     "name": "stdout",
     "output_type": "stream",
     "text": [
      "[3, 30, 9, 12]\n"
     ]
    }
   ],
   "source": [
    "#question5: Write a program to identify duplicate values from list.\n",
    "\n",
    "lst = [ 3, 6, 9, 12, 3, 30, 30, 15, 9, 45, 36, 12, 12]\n",
    "dupItems = []\n",
    "uniqItems = {}\n",
    "for x in lst:\n",
    "   if x not in uniqItems:\n",
    "      uniqItems[x] = 1\n",
    "      \n",
    "   else:\n",
    "      if uniqItems[x] == 1:\n",
    "         dupItems.append(x)\n",
    "         \n",
    "      uniqItems[x] += 1\n",
    "print(dupItems)\n"
   ]
  },
  {
   "cell_type": "code",
   "execution_count": 19,
   "metadata": {},
   "outputs": [
    {
     "name": "stdout",
     "output_type": "stream",
     "text": [
      "Key is present in the dictionary\n",
      "Key is not present in the dictionary\n"
     ]
    }
   ],
   "source": [
    "#question6: Write a Python script to check if a given key already exists in a dictionary.\n",
    "\n",
    "d = {1: 10, 2: 20, 3: 30, 4: 40, 5: 50, 6: 60}\n",
    "def is_key_present(x):\n",
    "  if x in d:\n",
    "      print('Key is present in the dictionary')\n",
    "  else:\n",
    "      print('Key is not present in the dictionary')\n",
    "is_key_present(5)\n",
    "is_key_present(9)"
   ]
  },
  {
   "cell_type": "code",
   "execution_count": null,
   "metadata": {},
   "outputs": [],
   "source": []
  },
  {
   "cell_type": "code",
   "execution_count": null,
   "metadata": {},
   "outputs": [],
   "source": []
  }
 ],
 "metadata": {
  "kernelspec": {
   "display_name": "Python 3",
   "language": "python",
   "name": "python3"
  },
  "language_info": {
   "codemirror_mode": {
    "name": "ipython",
    "version": 3
   },
   "file_extension": ".py",
   "mimetype": "text/x-python",
   "name": "python",
   "nbconvert_exporter": "python",
   "pygments_lexer": "ipython3",
   "version": "3.7.4"
  }
 },
 "nbformat": 4,
 "nbformat_minor": 2
}
